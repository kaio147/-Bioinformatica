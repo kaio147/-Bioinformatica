{
  "nbformat": 4,
  "nbformat_minor": 0,
  "metadata": {
    "colab": {
      "name": "Bioinformatica.ipynb",
      "provenance": [],
      "collapsed_sections": [],
      "authorship_tag": "ABX9TyOfX4byTcLprhUxMaDlQmYM",
      "include_colab_link": true
    },
    "kernelspec": {
      "name": "python3",
      "display_name": "Python 3"
    },
    "language_info": {
      "name": "python"
    }
  },
  "cells": [
    {
      "cell_type": "markdown",
      "metadata": {
        "id": "view-in-github",
        "colab_type": "text"
      },
      "source": [
        "<a href=\"https://colab.research.google.com/github/kaio147/-Bioinformatica/blob/main/Bioinformatica.ipynb\" target=\"_parent\"><img src=\"https://colab.research.google.com/assets/colab-badge.svg\" alt=\"Open In Colab\"/></a>"
      ]
    },
    {
      "cell_type": "code",
      "metadata": {
        "id": "pNS38c4PgbZm"
      },
      "source": [
        "# Aulas Do Livro Algorithms Design and Implementation in Python"
      ],
      "execution_count": null,
      "outputs": []
    },
    {
      "cell_type": "code",
      "metadata": {
        "colab": {
          "base_uri": "https://localhost:8080/"
        },
        "id": "MFOqrJJFhqOP",
        "outputId": "c99dc747-d716-497f-ebc1-a1558cefecf5"
      },
      "source": [
        "set([2,3,4])"
      ],
      "execution_count": null,
      "outputs": [
        {
          "output_type": "execute_result",
          "data": {
            "text/plain": [
              "{2, 3, 4}"
            ]
          },
          "metadata": {
            "tags": []
          },
          "execution_count": 2
        }
      ]
    },
    {
      "cell_type": "code",
      "metadata": {
        "colab": {
          "base_uri": "https://localhost:8080/"
        },
        "id": "ag-2NjosjygI",
        "outputId": "9e4cafca-6be4-46a0-be35-a3084fe0c2bf"
      },
      "source": [
        "#Funçao Pecorre Lista  \n",
        "def pecorre(lista,elemento):\n",
        "  cont=0\n",
        "  for i in range(len(lista)):\n",
        "    if lista[i] == elemento:\n",
        "      return cont\n",
        "    else:\n",
        "      cont = cont + 1\n",
        "  return False\n",
        "\n",
        "pecorre([1,3,5],7)"
      ],
      "execution_count": null,
      "outputs": [
        {
          "output_type": "execute_result",
          "data": {
            "text/plain": [
              "False"
            ]
          },
          "metadata": {
            "tags": []
          },
          "execution_count": 13
        }
      ]
    },
    {
      "cell_type": "code",
      "metadata": {
        "colab": {
          "base_uri": "https://localhost:8080/"
        },
        "id": "NB9HQKw8s3K7",
        "outputId": "48343e18-33a5-460f-8de0-e51dad3ed532"
      },
      "source": [
        "#enumera seq\n",
        "my_seq = \"GTACCG\"\n",
        "for i , j in enumerate(my_seq):\n",
        "  print( str(i) + \" \"+ my_seq[i])"
      ],
      "execution_count": null,
      "outputs": [
        {
          "output_type": "stream",
          "text": [
            "0 G\n",
            "1 T\n",
            "2 A\n",
            "3 C\n",
            "4 C\n",
            "5 G\n"
          ],
          "name": "stdout"
        }
      ]
    },
    {
      "cell_type": "code",
      "metadata": {
        "colab": {
          "base_uri": "https://localhost:8080/"
        },
        "id": "RsD8CvIFtvb-",
        "outputId": "32346ac5-abc5-41ee-a805-d4d1f3347e88"
      },
      "source": [
        "for i , j in enumerate(my_seq):\n",
        "  print(str(i) +\" \"+ j)"
      ],
      "execution_count": null,
      "outputs": [
        {
          "output_type": "stream",
          "text": [
            "0 G\n",
            "1 T\n",
            "2 A\n",
            "3 C\n",
            "4 C\n",
            "5 G\n"
          ],
          "name": "stdout"
        }
      ]
    }
  ]
}